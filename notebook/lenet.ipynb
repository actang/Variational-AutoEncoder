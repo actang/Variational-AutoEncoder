{
 "cells": [
  {
   "cell_type": "code",
   "execution_count": 1,
   "metadata": {
    "ExecuteTime": {
     "end_time": "2016-11-21T15:34:44.214256",
     "start_time": "2016-11-21T15:34:37.735136"
    },
    "collapsed": false
   },
   "outputs": [
    {
     "name": "stderr",
     "output_type": "stream",
     "text": [
      "/Users/allentang/Packages/anaconda/envs/tensorflow2/lib/python2.7/site-packages/matplotlib/font_manager.py:273: UserWarning: Matplotlib is building the font cache using fc-list. This may take a moment.\n",
      "  warnings.warn('Matplotlib is building the font cache using fc-list. This may take a moment.')\n"
     ]
    }
   ],
   "source": [
    "from six.moves import xrange  # pylint: disable=redefined-builtin\n",
    "import tensorflow as tf\n",
    "\n",
    "import prettytensor as pt\n",
    "from prettytensor.tutorial import data_utils\n",
    "from function_face import *"
   ]
  },
  {
   "cell_type": "code",
   "execution_count": 2,
   "metadata": {
    "ExecuteTime": {
     "end_time": "2016-11-21T15:34:44.224283",
     "start_time": "2016-11-21T15:34:44.217986"
    },
    "collapsed": true
   },
   "outputs": [],
   "source": [
    "BATCH_SIZE = 50\n",
    "IMAGE_SIZE = 96\n",
    "NUM_CHANNELS = 1\n",
    "NUM_TARGETS = 30\n",
    "VALIDATION_SIZE = 100"
   ]
  },
  {
   "cell_type": "code",
   "execution_count": 3,
   "metadata": {
    "ExecuteTime": {
     "end_time": "2016-11-21T15:34:44.240507",
     "start_time": "2016-11-21T15:34:44.227980"
    },
    "collapsed": true
   },
   "outputs": [],
   "source": [
    "EPOCH_SIZE = 60000 // BATCH_SIZE\n",
    "TEST_SIZE = 10000 // BATCH_SIZE"
   ]
  },
  {
   "cell_type": "code",
   "execution_count": 4,
   "metadata": {
    "ExecuteTime": {
     "end_time": "2016-11-21T15:35:30.266159",
     "start_time": "2016-11-21T15:34:44.243793"
    },
    "collapsed": false
   },
   "outputs": [
    {
     "name": "stdout",
     "output_type": "stream",
     "text": [
      "Information on dataset\n",
      "x_train (2040, 96, 96, 1)\n",
      "y_train (2040, 30)\n",
      "x_valid (100, 96, 96, 1)\n",
      "y_valid (100, 30)\n",
      "x_test (1783, 96, 96, 1)\n"
     ]
    }
   ],
   "source": [
    "x_train, y_train, x_valid, y_valid, x_test = get_data(VALIDATION_SIZE)"
   ]
  },
  {
   "cell_type": "code",
   "execution_count": 5,
   "metadata": {
    "ExecuteTime": {
     "end_time": "2016-11-21T15:35:30.300164",
     "start_time": "2016-11-21T15:35:30.282027"
    },
    "collapsed": false
   },
   "outputs": [],
   "source": [
    "x_train = x_train[0:2000]"
   ]
  },
  {
   "cell_type": "code",
   "execution_count": 6,
   "metadata": {
    "ExecuteTime": {
     "end_time": "2016-11-21T15:35:30.333565",
     "start_time": "2016-11-21T15:35:30.327476"
    },
    "collapsed": false
   },
   "outputs": [],
   "source": [
    "y_train = y_train[0:2000]"
   ]
  },
  {
   "cell_type": "code",
   "execution_count": 7,
   "metadata": {
    "ExecuteTime": {
     "end_time": "2016-11-21T15:35:30.397551",
     "start_time": "2016-11-21T15:35:30.357892"
    },
    "collapsed": false
   },
   "outputs": [],
   "source": [
    "def lenet5(images, labels):\n",
    "    images = pt.wrap(images)\n",
    "    with pt.defaults_scope(activation_fn=tf.nn.relu, l2loss=0.00001):\n",
    "        return (images.conv2d(5, 20).max_pool(2, 2).conv2d(5, 50).max_pool(2, 2)\n",
    "                .flatten().fully_connected(500)\n",
    "                .fully_connected(NUM_TARGETS, activation_fn=tf.sigmoid)\n",
    "                .cross_entropy(labels))"
   ]
  },
  {
   "cell_type": "code",
   "execution_count": 8,
   "metadata": {
    "ExecuteTime": {
     "end_time": "2016-11-21T15:35:30.465726",
     "start_time": "2016-11-21T15:35:30.410926"
    },
    "collapsed": false
   },
   "outputs": [],
   "source": [
    "image_placeholder = tf.placeholder(tf.float32, [BATCH_SIZE, IMAGE_SIZE, IMAGE_SIZE, 1])\n",
    "labels_placeholder = tf.placeholder(tf.float32, [BATCH_SIZE, NUM_TARGETS])"
   ]
  },
  {
   "cell_type": "code",
   "execution_count": 9,
   "metadata": {
    "ExecuteTime": {
     "end_time": "2016-11-21T15:35:31.625634",
     "start_time": "2016-11-21T15:35:30.469816"
    },
    "collapsed": false
   },
   "outputs": [],
   "source": [
    "result = lenet5(image_placeholder, labels_placeholder)"
   ]
  },
  {
   "cell_type": "code",
   "execution_count": 10,
   "metadata": {
    "ExecuteTime": {
     "end_time": "2016-11-21T15:35:31.634356",
     "start_time": "2016-11-21T15:35:31.629067"
    },
    "collapsed": false
   },
   "outputs": [],
   "source": [
    "accuracy = result\n",
    "# result.evaluate_classifier(labels_placeholder, phase=pt.Phase.test)"
   ]
  },
  {
   "cell_type": "code",
   "execution_count": null,
   "metadata": {
    "ExecuteTime": {
     "start_time": "2016-11-21T23:34:48.158Z"
    },
    "collapsed": false
   },
   "outputs": [],
   "source": [
    "optimizer = tf.train.GradientDescentOptimizer(0.01)\n",
    "train_op = pt.apply_optimizer(optimizer, losses=[result])\n",
    "runner = pt.train.Runner()"
   ]
  },
  {
   "cell_type": "code",
   "execution_count": null,
   "metadata": {
    "ExecuteTime": {
     "start_time": "2016-11-21T23:34:48.809Z"
    },
    "collapsed": false
   },
   "outputs": [
    {
     "name": "stdout",
     "output_type": "stream",
     "text": [
      "[1] [50.720657]\n",
      "[40] [50.667057]\n",
      "Accuracy after 1 epoch 5111.34%\n",
      "[41] [50.384483]\n"
     ]
    }
   ],
   "source": [
    "with tf.Session():\n",
    "    for epoch in xrange(10):\n",
    "#     train_images, train_labels = data_utils.permute_data(\n",
    "#           (train_images, train_labels))\n",
    "        runner.train_model(\n",
    "          train_op,\n",
    "          result,\n",
    "          EPOCH_SIZE,\n",
    "          feed_vars=(image_placeholder, labels_placeholder),\n",
    "          feed_data=pt.train.feed_numpy(BATCH_SIZE, x_train, y_train),\n",
    "          print_every=100)\n",
    "        regression_loss = runner.evaluate_model(\n",
    "          accuracy,\n",
    "          VALIDATION_SIZE,\n",
    "          feed_vars=(image_placeholder, labels_placeholder),\n",
    "          feed_data=pt.train.feed_numpy(BATCH_SIZE, x_valid, y_valid))\n",
    "        print('Accuracy after %d epoch %g%%' % (epoch + 1, regression_loss * 100))"
   ]
  },
  {
   "cell_type": "code",
   "execution_count": null,
   "metadata": {
    "collapsed": true
   },
   "outputs": [],
   "source": []
  }
 ],
 "metadata": {
  "kernelspec": {
   "display_name": "Python [conda env:tensorflow2]",
   "language": "python",
   "name": "conda-env-tensorflow2-py"
  },
  "language_info": {
   "codemirror_mode": {
    "name": "ipython",
    "version": 2
   },
   "file_extension": ".py",
   "mimetype": "text/x-python",
   "name": "python",
   "nbconvert_exporter": "python",
   "pygments_lexer": "ipython2",
   "version": "2.7.12"
  },
  "nav_menu": {},
  "toc": {
   "navigate_menu": true,
   "number_sections": true,
   "sideBar": true,
   "threshold": 6,
   "toc_cell": false,
   "toc_section_display": "block",
   "toc_window_display": false
  }
 },
 "nbformat": 4,
 "nbformat_minor": 1
}
